{
 "cells": [
  {
   "cell_type": "markdown",
   "metadata": {},
   "source": [
    "\n",
    "# Teoría\n",
    "\n"
   ]
  },
  {
   "cell_type": "markdown",
   "metadata": {},
   "source": [
    "\n",
    "## Motivación\n",
    "\n"
   ]
  },
  {
   "cell_type": "markdown",
   "metadata": {},
   "source": [
    "El objetivo de la programación lineal es maxizar funciones lineales\n",
    "sobre dominios convexos, es decir, definidos sobre renglones dadas por\n",
    "desigualdades.\n",
    "\n",
    "![img](io-2da-programacion-lineal-32-638.jpg)\n",
    "\n"
   ]
  },
  {
   "cell_type": "markdown",
   "metadata": {},
   "source": [
    "\n",
    "## Ejemplos\n",
    "\n"
   ]
  },
  {
   "cell_type": "markdown",
   "metadata": {},
   "source": [
    "-   El problema de la dieta.\n",
    "-   Optimización de lugares en una excursión.\n",
    "-   Escoger objetos óptimos para un campamento.\n",
    "-   El problema del flujo máximo.\n",
    "\n"
   ]
  },
  {
   "cell_type": "markdown",
   "metadata": {},
   "source": [
    "\n",
    "## Convexidad\n",
    "\n"
   ]
  },
  {
   "cell_type": "markdown",
   "metadata": {},
   "source": [
    "Un conjunto $X$ es **convexo** sí para todos $x,y\\in X$ y $t\\in\n",
    "   [0,1]$ se tiene que $tx+(1-t)y\\in X$.\n",
    "\n"
   ]
  },
  {
   "cell_type": "markdown",
   "metadata": {},
   "source": [
    "\n",
    "## Método símplex\n",
    "\n"
   ]
  },
  {
   "cell_type": "markdown",
   "metadata": {},
   "source": [
    "\n",
    "# Herramientas computacionales\n",
    "\n"
   ]
  },
  {
   "cell_type": "markdown",
   "metadata": {},
   "source": [
    "\n",
    "## Emacs\n",
    "\n"
   ]
  },
  {
   "cell_type": "markdown",
   "metadata": {},
   "source": [
    "|C-x C-s|Salvar archivo|\n",
    "|C-x C-f|Abrir archivo|\n",
    "|M-q|Formatear el párrafo|\n",
    "|C-x d|Editar directorio|\n",
    "|C-g|Salir|\n",
    "|C-x 2|Divide horizontalmente|\n",
    "|C-x 3|Divide verticalmente|\n",
    "|C-x 1|Regresa a una sola pantalla|\n",
    "|M-w|Copiar la región|\n",
    "|C-w|Borrar la región|\n",
    "|Shift y flechas|Seleccionar la región|\n",
    "|C-y|Pegar la región|\n",
    "\n"
   ]
  },
  {
   "cell_type": "markdown",
   "metadata": {},
   "source": [
    "\n",
    "## Git\n",
    "\n"
   ]
  },
  {
   "cell_type": "markdown",
   "metadata": {},
   "source": [
    "\n",
    "### Git en la terminal\n",
    "\n"
   ]
  },
  {
   "cell_type": "markdown",
   "metadata": {},
   "source": [
    "\n",
    "### Github\n",
    "\n"
   ]
  },
  {
   "cell_type": "markdown",
   "metadata": {},
   "source": [
    "\n",
    "## Python\n",
    "\n"
   ]
  },
  {
   "cell_type": "markdown",
   "metadata": {},
   "source": [
    "\n",
    "### El lenguaje de Python\n",
    "\n"
   ]
  },
  {
   "cell_type": "markdown",
   "metadata": {},
   "source": [
    "\n",
    "### Jupyter\n",
    "\n"
   ]
  },
  {
   "cell_type": "markdown",
   "metadata": {},
   "source": [
    "\n",
    "## Latex\n",
    "\n"
   ]
  }
 ],
 "metadata": {
  "kernelspec": {
   "display_name": "Python 3",
   "language": "python",
   "name": "python3"
  },
  "language_info": {
   "codemirror_mode": {
    "name": "ipython",
    "version": 3
   },
   "file_extension": ".py",
   "mimetype": "text/x-python",
   "name": "python",
   "nbconvert_exporter": "python",
   "pygments_lexer": "ipython3",
   "version": "3.7.0"
  },
  "org": null
 },
 "nbformat": 4,
 "nbformat_minor": 1
}
